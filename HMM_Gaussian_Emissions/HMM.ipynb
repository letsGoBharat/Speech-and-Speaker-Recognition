{
  "nbformat": 4,
  "nbformat_minor": 0,
  "metadata": {
    "colab": {
      "name": "lab2_HMM",
      "provenance": [],
      "collapsed_sections": [],
      "include_colab_link": true
    },
    "kernelspec": {
      "name": "python3",
      "display_name": "Python 3"
    }
  },
  "cells": [
    {
      "cell_type": "markdown",
      "metadata": {
        "id": "view-in-github",
        "colab_type": "text"
      },
      "source": [
        "<a href=\"https://colab.research.google.com/github/letsGoBharat/Speech-and-Speaker-Recognition/blob/master/HMM_Gaussian_Emissions/HMM.ipynb\" target=\"_parent\"><img src=\"https://colab.research.google.com/assets/colab-badge.svg\" alt=\"Open In Colab\"/></a>"
      ]
    },
    {
      "cell_type": "markdown",
      "metadata": {
        "id": "a5KiuqKnKDVz",
        "colab_type": "text"
      },
      "source": [
        "lab2_proto.py"
      ]
    },
    {
      "cell_type": "code",
      "metadata": {
        "id": "m5PYUhaBIsQe",
        "colab_type": "code",
        "colab": {}
      },
      "source": [
        "#!pip install tools2\n",
        "import numpy as np\n",
        "#from tools2 import *\n",
        "\n",
        "#DONE\n",
        "def concatTwoHMMs(hmm1, hmm2):\n",
        "    \"\"\" Concatenates 2 HMM models\n",
        "\n",
        "    Args:\n",
        "       hmm1, hmm2: two dictionaries with the following keys:\n",
        "           name: phonetic or word symbol corresponding to the model\n",
        "           startprob: M+1 array with priori probability of state\n",
        "           transmat: (M+1)x(M+1) transition matrix\n",
        "           means: MxD array of mean vectors\n",
        "           covars: MxD array of variances\n",
        "\n",
        "    D is the dimension of the feature vectors\n",
        "    M is the number of emitting states in each HMM model (could be different for each)\n",
        "\n",
        "    Output\n",
        "       dictionary with the same keys as the input but concatenated models:\n",
        "          startprob: K+1 array with priori probability of state\n",
        "          transmat: (K+1)x(K+1) transition matrix\n",
        "             means: KxD array of mean vectors\n",
        "            covars: KxD array of variances\n",
        "\n",
        "    K is the sum of the number of emitting states from the input models\n",
        "   \n",
        "    Example:\n",
        "       twoHMMs = concatHMMs(phoneHMMs['sil'], phoneHMMs['ow'])\n",
        "\n",
        "    See also: the concatenating_hmms.pdf document in the lab package\n",
        "    \"\"\"\n",
        "    hmm = dict()\n",
        "    startprob1 = hmm1['startprob']\n",
        "    startprob2 = hmm2['startprob']\n",
        "    transmat1 = hmm1['transmat']\n",
        "    transmat2 = hmm2['transmat']\n",
        "    means1 = hmm1['means']\n",
        "    means2 = hmm2['means']\n",
        "    covars1 = hmm1['covars']\n",
        "    covars2 = hmm2['covars']\n",
        "\n",
        "    # build concatenated startprob\n",
        "\n",
        "    startprob1ext = np.append(startprob1,  np.tile(startprob1[-1], (1, startprob2.size - 1)))\n",
        "    startprob2ext = np.concatenate((np.ones(startprob1.size - 1), startprob2))\n",
        "\n",
        "    hmm[\"startprob\"] = np.multiply(startprob1ext, startprob2ext)\n",
        "\n",
        "    # build transition matrix\n",
        "\n",
        "    transmat1ext = np.append(transmat1[:-1, :],  np.tile(transmat1[:-1, [-1]], (1, startprob2.size - 1)), 1)\n",
        "\n",
        "    startrep2 = np.tile(startprob2, (startprob1.size - 1, 1))\n",
        "    startrep2ext = np.concatenate((np.ones((startprob1.size - 1, startprob1.size - 1)), startrep2), axis = 1)\n",
        "\n",
        "    firsthalf = np.multiply(transmat1ext, startrep2ext)\n",
        "    secondhalf = np.concatenate((np.zeros((startprob2.size, startprob1.size - 1)), transmat2), axis = 1)\n",
        "\n",
        "    hmm[\"transmat\"] = np.concatenate((firsthalf, secondhalf))\n",
        "\n",
        "    # build means matrix\n",
        "\n",
        "    hmm[\"means\"] = np.concatenate((means1, means2))\n",
        "\n",
        "    # build covariances matrix\n",
        "\n",
        "    hmm[\"covars\"] = np.concatenate((covars1, covars2))\n",
        "\n",
        "    return hmm\n",
        "    \n",
        "\n",
        "# this is already implemented, but based on concat2HMMs() above\n",
        "def concatHMMs(hmmmodels, namelist):\n",
        "    \"\"\" Concatenates HMM models in a left to right manner\n",
        "\n",
        "    Args:\n",
        "       hmmmodels: dictionary of models indexed by model name. \n",
        "       hmmmodels[name] is a dictionaries with the following keys:\n",
        "           name: phonetic or word symbol corresponding to the model\n",
        "           startprob: M+1 array with priori probability of state\n",
        "           transmat: (M+1)x(M+1) transition matrix\n",
        "           means: MxD array of mean vectors\n",
        "           covars: MxD array of variances\n",
        "       namelist: list of model names that we want to concatenate\n",
        "\n",
        "    D is the dimension of the feature vectors\n",
        "    M is the number of emitting states in each HMM model (could be\n",
        "      different in each model)\n",
        "\n",
        "    Output\n",
        "       combinedhmm: dictionary with the same keys as the input but\n",
        "                    combined models:\n",
        "         startprob: K+1 array with priori probability of state\n",
        "          transmat: (K+1)x(K+1) transition matrix\n",
        "             means: KxD array of mean vectors\n",
        "            covars: KxD array of variances\n",
        "\n",
        "    K is the sum of the number of emitting states from the input models\n",
        "\n",
        "    Example:\n",
        "       wordHMMs['o'] = concatHMMs(phoneHMMs, ['sil', 'ow', 'sil'])\n",
        "    \"\"\"\n",
        "    concat = hmmmodels[namelist[0]]\n",
        "    for idx in range(1,len(namelist)):\n",
        "        concat = concatTwoHMMs(concat, hmmmodels[namelist[idx]])\n",
        "    return concat\n",
        "\n",
        "\n",
        "def gmmloglik(log_emlik, weights):\n",
        "    \"\"\"Log Likelihood for a GMM model based on Multivariate Normal Distribution.\n",
        "\n",
        "    Args:\n",
        "        log_emlik: array like, shape (N, K).\n",
        "            contains the log likelihoods for each of N observations and\n",
        "            each of K distributions\n",
        "        weights:   weight vector for the K components in the mixture\n",
        "\n",
        "    Output:\n",
        "        gmmloglik: scalar, log likelihood of data given the GMM model.\n",
        "    \"\"\"\n",
        "\n",
        "def forward(log_emlik, log_startprob, log_transmat):\n",
        "    \"\"\"Forward (alpha) probabilities in log domain.\n",
        "\n",
        "    Args:\n",
        "        log_emlik: NxM array of emission log likelihoods, N frames, M states\n",
        "        log_startprob: log probability to start in state i\n",
        "        log_transmat: log transition probability from state i to j\n",
        "\n",
        "    Output:\n",
        "        forward_prob: NxM array of forward log probabilities for each of the M states in the model\n",
        "    \"\"\"\n",
        "    alpha = np.empty((log_emlik.shape[0], log_emlik.shape[1]))\n",
        "    alpha[0] = log_startprob[0:-1] + log_emlik[0, :]\n",
        "    for i in range (1, alpha.shape[0]):\n",
        "      for j in range (0, alpha.shape[1]):\n",
        "        alpha[i][j] = logsumexp(alpha[i - 1] + log_transmat[:-1, j]) + log_emlik[i, j]\n",
        "\n",
        "    return alpha\n",
        "\n",
        "def backward(log_emlik, log_startprob, log_transmat):\n",
        "    \"\"\"Backward (beta) probabilities in log domain.\n",
        "\n",
        "    Args:\n",
        "        log_emlik: NxM array of emission log likelihoods, N frames, M states\n",
        "        log_startprob: log probability to start in state i\n",
        "        log_transmat: transition log probability from state i to j\n",
        "\n",
        "    Output:\n",
        "        backward_prob: NxM array of backward log probabilities for each of the M states in the model\n",
        "    \"\"\"\n",
        "\n",
        "    bet = np.empty((log_emlik.shape[0], log_emlik.shape[1]))\n",
        "    bet[log_emlik.shape[0] - 1] = np.zeros(log_emlik.shape[1])\n",
        "    for i in range (log_emlik.shape[0] - 2,  -1, -1):\n",
        "      for j in range (0, bet.shape[1]):\n",
        "        bet[i][j] = logsumexp(log_transmat[j, :-1] + log_emlik[i + 1] + bet[i + 1])\n",
        "    return bet\n",
        "\n",
        "\n",
        "def backtrack_viterbi(B, last_idx):\n",
        "    best_path = [last_idx]\n",
        "    for i in range(B.shape[0]-1, 0, -1):\n",
        "      best_path.append(int(B[i, best_path[-1]]))\n",
        "\n",
        "    best_path.reverse()\n",
        "    return best_path\n",
        "\n",
        "\n",
        "def viterbi(log_emlik, log_startprob, log_transmat, forceFinalState=True):\n",
        "    \"\"\"Viterbi path.\n",
        "\n",
        "    Args:\n",
        "        log_emlik: NxM array of emission log likelihoods, N frames, M states\n",
        "        log_startprob: log probability to start in state i\n",
        "        log_transmat: transition log probability from state i to j\n",
        "        forceFinalState: if True, start backtracking from the final state in\n",
        "                  the model, instead of the best state at the last time step\n",
        "\n",
        "    Output:\n",
        "        viterbi_loglik: log likelihood of the best path\n",
        "        viterbi_path: best path\n",
        "    \"\"\"\n",
        "    emissions = log_emlik.shape[0]\n",
        "    states = log_emlik.shape[1]\n",
        "    B = np.zeros((emissions, states))\n",
        "    V = np.zeros((emissions, states))\n",
        "    V[0] = log_startprob[0:-1] + log_emlik[0, :]\n",
        "    for i in range(1, emissions):\n",
        "      for j in range(states):\n",
        "        V[i][j] = np.max(V[i - 1, :] + log_transmat[:-1, j]) + log_emlik[i, j]\n",
        "        B[i][j] = np.argmax(V[i - 1, :] + log_transmat[:-1, j])\n",
        "      \n",
        "    max_last_index = np.argmax(V[emissions-1])\n",
        "    viterbi_path = backtrack_viterbi(B, max_last_index);\n",
        "    viterbi_loglik = np.max(V[emissions-1]) #to check at time t(last emission)\n",
        "    return viterbi_loglik, viterbi_path\n",
        "\n",
        "def statePosteriors(log_alpha, log_beta):\n",
        "    \"\"\"State posterior (gamma) probabilities in log domain.\n",
        "\n",
        "    Args:\n",
        "        log_alpha: NxM array of log forward (alpha) probabilities\n",
        "        log_beta: NxM array of log backward (beta) probabilities\n",
        "    where N is the number of frames, and M the number of states\n",
        "\n",
        "    Output:\n",
        "        log_gamma: NxM array of gamma probabilities for each of the M states in the model\n",
        "    \"\"\"\n",
        "\n",
        "    log_gamma = np.empty((log_alpha.shape[0], log_alpha.shape[1]))\n",
        "\n",
        "    log_gamma = log_alpha + log_beta - logsumexp(log_alpha[-1])\n",
        "\n",
        "    return log_gamma\n",
        "\n",
        "def updateMeanAndVar(X, log_gamma, varianceFloor=5.0):\n",
        "    \"\"\" Update Gaussian parameters with diagonal covariance\n",
        "\n",
        "    Args:\n",
        "         X: NxD array of feature vectors\n",
        "         log_gamma: NxM state posterior probabilities in log domain\n",
        "         varianceFloor: minimum allowed variance scalar\n",
        "    were N is the lenght of the observation sequence, D is the\n",
        "    dimensionality of the feature vectors and M is the number of\n",
        "    states in the model\n",
        "\n",
        "    Outputs:\n",
        "         means: MxD mean vectors for each state\n",
        "         covars: MxD covariance (variance) vectors for each state\n",
        "    \"\"\"\n"
      ],
      "execution_count": 0,
      "outputs": []
    },
    {
      "cell_type": "markdown",
      "metadata": {
        "id": "a5jgM5SaKR-r",
        "colab_type": "text"
      },
      "source": [
        "lab2_tools.py"
      ]
    },
    {
      "cell_type": "code",
      "metadata": {
        "id": "K2UuykylJ_zY",
        "colab_type": "code",
        "colab": {}
      },
      "source": [
        "import numpy as np\n",
        "import matplotlib.pyplot as plt\n",
        "\n",
        "def logsumexp(arr, axis=0):\n",
        "    \"\"\"Computes the sum of arr assuming arr is in the log domain.\n",
        "    Returns log(sum(exp(arr))) while minimizing the possibility of\n",
        "    over/underflow.\n",
        "    \"\"\"\n",
        "    arr = np.rollaxis(arr, axis)\n",
        "    # Use the max to normalize, as with the log this is what accumulates\n",
        "    # the less errors\n",
        "    vmax = arr.max(axis=0)\n",
        "    if vmax.ndim > 0:\n",
        "        vmax[~np.isfinite(vmax)] = 0\n",
        "    elif not np.isfinite(vmax):\n",
        "        vmax = 0\n",
        "    with np.errstate(divide=\"ignore\"):\n",
        "        out = np.log(np.sum(np.exp(arr - vmax), axis=0))\n",
        "        out += vmax\n",
        "        return out\n",
        "\n",
        "def log_multivariate_normal_density_diag(X, means, covars):\n",
        "    \"\"\"Compute Gaussian log-density at X for a diagonal model\n",
        "\n",
        "    Args:\n",
        "        X: array like, shape (n_observations, n_features)\n",
        "        means: array like, shape (n_components, n_features)\n",
        "        covars: array like, shape (n_components, n_features)\n",
        "\n",
        "    Output:\n",
        "        lpr: array like, shape (n_observations, n_components)\n",
        "    From scikit-learn/sklearn/mixture/gmm.py\n",
        "    \"\"\"\n",
        "    n_samples, n_dim = X.shape\n",
        "    lpr = -0.5 * (n_dim * np.log(2 * np.pi) + np.sum(np.log(covars), 1)\n",
        "                  + np.sum((means ** 2) / covars, 1)\n",
        "                  - 2 * np.dot(X, (means / covars).T)\n",
        "                  + np.dot(X ** 2, (1.0 / covars).T))\n",
        "    return lpr\n",
        "\n",
        "def plot_colormesh(input):\n",
        "    plt.pcolormesh(input.T)\n",
        "    plt.show()\n",
        "\n",
        "def plot_overlay(input1, input2):\n",
        "    plt.pcolormesh(input1.T)\n",
        "    plt.plot(input2, color = 'red')\n",
        "    plt.show()\n",
        "\n",
        "def alpha_veterbi_performance(data, is_alpha = False, is_viterbi = False):\n",
        "  #Alpha - \n",
        "  #Recognizes women utterances correctly but men utterances not very well for single speaker model\n",
        "  #Recognizes all women and men utterances correctly except for digit 9 spoken by a woman for all speaker model\n",
        "  #Viterbi - \n",
        "  #Recognizes women utterances correctly but men utterances not very well for single speaker model\n",
        "  #Recognizes all women and men utterances correctly for all speaker model\n",
        "    print(\"Performance on models trained on a single speaker\")\n",
        "    for d in data:\n",
        "      print(\"Digit \" + d['digit'] + \" by \" + d['gender'])\n",
        "      max = -math.inf\n",
        "      dig = -1\n",
        "      for digit in prondict.keys():\n",
        "        if is_viterbi == True:\n",
        "          loglik, _ = viterbi(log_multivariate_normal_density_diag(d['lmfcc'], wordHMMs_ones[digit]['means'], wordHMMs_ones[digit]['covars']), np.log(wordHMMs_ones[digit]['startprob']), np.log(wordHMMs_ones[digit]['transmat']), True)\n",
        "        elif is_alpha == True:\n",
        "          alpha = forward(log_multivariate_normal_density_diag(d['lmfcc'], wordHMMs_ones[digit]['means'], wordHMMs_ones[digit]['covars']), np.log(wordHMMs_ones[digit]['startprob']), np.log(wordHMMs_ones[digit]['transmat']))\n",
        "          loglik = logsumexp(alpha[-1])\n",
        "        if max < loglik:\n",
        "          max  = loglik\n",
        "          dig = digit\n",
        "      print(\"Max likelihood digit: \" + dig)\n",
        "      print()\n",
        "    \n",
        "    print(\"Performance on models trained on a all speakers\")\n",
        "    for d in data:\n",
        "      print(\"Digit \" + d['digit'] + \" by \" + d['gender'])\n",
        "      max = -math.inf\n",
        "      dig = -1\n",
        "      for digit in prondict.keys():\n",
        "        if is_viterbi == True:\n",
        "          loglik, _ = viterbi(log_multivariate_normal_density_diag(d['lmfcc'], wordHMMs_all[digit]['means'], wordHMMs_all[digit]['covars']), np.log(wordHMMs_all[digit]['startprob']), np.log(wordHMMs_all[digit]['transmat']), True)\n",
        "        elif is_alpha == True:\n",
        "          alpha = forward(log_multivariate_normal_density_diag(d['lmfcc'], wordHMMs_all[digit]['means'], wordHMMs_all[digit]['covars']), np.log(wordHMMs_all[digit]['startprob']), np.log(wordHMMs_all[digit]['transmat']))\n",
        "          loglik = logsumexp(alpha[-1])\n",
        "        if max < loglik:\n",
        "          max  = loglik\n",
        "          dig = digit\n",
        "      print(\"Max likelihood digit: \" + dig)\n",
        "      print()\n",
        "\n"
      ],
      "execution_count": 0,
      "outputs": []
    },
    {
      "cell_type": "markdown",
      "metadata": {
        "id": "OK3x3o69KdUw",
        "colab_type": "text"
      },
      "source": [
        "prondict.py"
      ]
    },
    {
      "cell_type": "code",
      "metadata": {
        "id": "OCTFkwMIKaHe",
        "colab_type": "code",
        "colab": {}
      },
      "source": [
        "prondict = {} \n",
        "prondict['o'] = ['ow']\n",
        "prondict['z'] = ['z', 'iy', 'r', 'ow']\n",
        "prondict['1'] = ['w', 'ah', 'n']\n",
        "prondict['2'] = ['t', 'uw']\n",
        "prondict['3'] = ['th', 'r', 'iy']\n",
        "prondict['4'] = ['f', 'ao', 'r']\n",
        "prondict['5'] = ['f', 'ay', 'v']\n",
        "prondict['6'] = ['s', 'ih', 'k', 's']\n",
        "prondict['7'] = ['s', 'eh', 'v', 'ah', 'n']\n",
        "prondict['8'] = ['ey', 't']\n",
        "prondict['9'] = ['n', 'ay', 'n']\n"
      ],
      "execution_count": 0,
      "outputs": []
    },
    {
      "cell_type": "markdown",
      "metadata": {
        "id": "Wq5PvFMFKisW",
        "colab_type": "text"
      },
      "source": [
        "py2mat.py"
      ]
    },
    {
      "cell_type": "code",
      "metadata": {
        "id": "CBefiZNdKmul",
        "colab_type": "code",
        "colab": {}
      },
      "source": [
        "from scipy.io import savemat\n",
        "import numpy as np\n",
        "import math\n",
        "import sys\n",
        "\n",
        "if sys.version_info.major==3:\n",
        "    models = np.load('lab2_models_python3.npz')['models']\n",
        "    example = np.load('lab2_example_python3.npz')['example'].item()\n",
        "    savemat('lab2_models.mat', models)\n",
        "    savemat('lab2_example.mat', example)\n",
        "else:\n",
        "    models = np.load('lab2_models.npz')['models']\n",
        "    example = np.load('lab2_example.npz')['example'].item()\n",
        "    savemat('lab2_models.mat', models)\n",
        "    savemat('lab2_example.mat', example)\n"
      ],
      "execution_count": 0,
      "outputs": []
    },
    {
      "cell_type": "markdown",
      "metadata": {
        "id": "Yt1N-Qw_K1hJ",
        "colab_type": "text"
      },
      "source": [
        "main.py"
      ]
    },
    {
      "cell_type": "code",
      "metadata": {
        "id": "8tb-_3MkK2vY",
        "colab_type": "code",
        "outputId": "ae1401c4-63a1-4483-b1ec-ee1f4caf722b",
        "colab": {
          "base_uri": "https://localhost:8080/",
          "height": 1000
        }
      },
      "source": [
        "#ignore runtime warnings\n",
        "import warnings\n",
        "warnings.filterwarnings(\"ignore\", category=RuntimeWarning)\n",
        "\n",
        "import numpy as np\n",
        "import math\n",
        "from sklearn.mixture import GaussianMixture as GMM\n",
        "\n",
        "data = np.load('lab2_data.npz', allow_pickle=True)['data']\n",
        " \n",
        "phoneHMMs_all = np.load('lab2_models_all.npz', allow_pickle=True)['phoneHMMs'].item()\n",
        "phoneHMMs_ones = np.load('lab2_models_onespkr.npz', allow_pickle=True)['phoneHMMs'].item()\n",
        "example = np.load('lab2_example.npz', allow_pickle=True)['example'].item()\n",
        "\n",
        "isolated = {}\n",
        "wordHMMs_ones = {}\n",
        "wordHMMs_all = {}\n",
        "for digit in prondict.keys():\n",
        "  isolated[digit] = ['sil'] + prondict[digit] + ['sil']\n",
        "  wordHMMs_ones[digit] = concatHMMs(phoneHMMs_ones, isolated[digit])\n",
        "  wordHMMs_all[digit] = concatHMMs(phoneHMMs_all, isolated[digit])\n",
        "  \n",
        "\n",
        "# Verify hmm concatenation correctness\n",
        "print(\"HMM concatenation correct? \" + str(np.allclose(log_multivariate_normal_density_diag(example['lmfcc'], wordHMMs_ones['o']['means'], wordHMMs_ones['o']['covars']), example['obsloglik'])))\n",
        "\n",
        "print(\"\\'o\\' repetition a\")\n",
        "plot_colormesh(log_multivariate_normal_density_diag(data[0]['lmfcc'], wordHMMs_ones['o']['means'], wordHMMs_ones['o']['covars']))\n",
        "print(\"\\'o\\' repetition b\")\n",
        "plot_colormesh(log_multivariate_normal_density_diag(data[1]['lmfcc'], wordHMMs_ones['o']['means'], wordHMMs_ones['o']['covars']))\n",
        "\n",
        "\n",
        "# Verify forward function correctness\n",
        "alpha = forward(example['obsloglik'], np.log(wordHMMs_ones['o']['startprob']), np.log(wordHMMs_ones['o']['transmat']))\n",
        "print(\"Forward algorithm correct? \" + str(np.allclose(alpha, example['logalpha'])))\n",
        "plot_colormesh(alpha)\n",
        "\n",
        "\n",
        "# Verify viterbi function correctness\n",
        "viterbi_loglik, viterbi_path = viterbi(example['obsloglik'], np.log(wordHMMs_ones['o']['startprob']), np.log(wordHMMs_ones['o']['transmat']), True)\n",
        "print(\"Viterbi algorithm correct? \" + str(np.allclose(viterbi_loglik, example['vloglik'])))\n",
        "\n",
        "print('Best Path :' + str(viterbi_path))\n",
        "\n",
        "print(\"Best path over the alpha array - \")\n",
        "plot_overlay(alpha, viterbi_path)\n",
        "\n",
        "\n",
        "#Alpha Viterbi Performance\n",
        "check_alpha = False\n",
        "check_viterbi = True\n",
        "\n",
        "#alpha_veterbi_performance(data, check_alpha, check_viterbi)\n",
        "\n",
        "# Verify backward function correctness\n",
        "beta = backward(example['obsloglik'], np.log(wordHMMs_ones['o']['startprob']), np.log(wordHMMs_ones['o']['transmat']))\n",
        "print(\"Backward algorithm correct? \" + str(np.allclose(beta, example['logbeta'])))\n",
        "plot_colormesh(beta)\n",
        "print(np.allclose(logsumexp(np.log(wordHMMs_ones['o']['startprob'][:-1]) + example['obsloglik'][0, :] + beta[0]), example['loglik']))\n",
        "\n",
        "# Verify backward function correctness\n",
        "log_gamma = statePosteriors(alpha, beta)\n",
        "plot_colormesh(log_gamma)\n",
        "# shows most probable states across the sequence\n",
        "print(np.sum(np.exp(log_gamma), 0))\n",
        "# sum up to 1\n",
        "print(np.sum(np.exp(log_gamma), 1))\n",
        "# number of timesteps\n",
        "print(np.sum(np.exp(log_gamma)))\n",
        "\n",
        "# gmm = GMM(n_components=13)\n",
        "# print(gmm.means)"
      ],
      "execution_count": 58,
      "outputs": [
        {
          "output_type": "stream",
          "text": [
            "HMM concatenation correct? True\n",
            "'o' repetition a\n"
          ],
          "name": "stdout"
        },
        {
          "output_type": "display_data",
          "data": {
            "image/png": "[encoded data removed]",
            "text/plain": [
              "<Figure size 432x288 with 1 Axes>"
            ]
          },
          "metadata": {
            "tags": [],
            "needs_background": "light"
          }
        },
        {
          "output_type": "stream",
          "text": [
            "'o' repetition b\n"
          ],
          "name": "stdout"
        },
        {
          "output_type": "display_data",
          "data": {
            "image/png": "[encoded data removed]",
            "text/plain": [
              "<Figure size 432x288 with 1 Axes>"
            ]
          },
          "metadata": {
            "tags": [],
            "needs_background": "light"
          }
        },
        {
          "output_type": "stream",
          "text": [
            "Forward algorithm correct? True\n"
          ],
          "name": "stdout"
        },
        {
          "output_type": "display_data",
          "data": {
            "image/png": "[encoded data removed]",
            "text/plain": [
              "<Figure size 432x288 with 1 Axes>"
            ]
          },
          "metadata": {
            "tags": [],
            "needs_background": "light"
          }
        },
        {
          "output_type": "stream",
          "text": [
            "Viterbi algorithm correct? True\n",
            "Best Path :[0, 1, 1, 1, 2, 2, 2, 3, 3, 3, 3, 3, 3, 3, 3, 3, 3, 4, 4, 4, 4, 4, 4, 4, 4, 4, 4, 5, 5, 5, 5, 5, 5, 5, 5, 5, 5, 5, 5, 5, 5, 5, 5, 5, 5, 5, 5, 6, 6, 6, 6, 6, 6, 6, 6, 6, 6, 6, 6, 6, 7, 8, 8, 8, 8, 8, 8, 8, 8, 8, 8]\n",
            "Best path over the alpha array - \n"
          ],
          "name": "stdout"
        },
        {
          "output_type": "display_data",
          "data": {
            "image/png": "[encoded data removed]",
            "text/plain": [
              "<Figure size 432x288 with 1 Axes>"
            ]
          },
          "metadata": {
            "tags": [],
            "needs_background": "light"
          }
        },
        {
          "output_type": "stream",
          "text": [
            "Backward algorithm correct? True\n"
          ],
          "name": "stdout"
        },
        {
          "output_type": "display_data",
          "data": {
            "image/png": "[encoded data removed]",
            "text/plain": [
              "<Figure size 432x288 with 1 Axes>"
            ]
          },
          "metadata": {
            "tags": [],
            "needs_background": "light"
          }
        },
        {
          "output_type": "stream",
          "text": [
            "True\n"
          ],
          "name": "stdout"
        },
        {
          "output_type": "display_data",
          "data": {
            "image/png": "[encoded data removed]",
            "text/plain": [
              "<Figure size 432x288 with 1 Axes>"
            ]
          },
          "metadata": {
            "tags": [],
            "needs_background": "light"
          }
        },
        {
          "output_type": "stream",
          "text": [
            "[ 1.34597458  2.09555994  3.55849998  9.73752276 10.12040999 20.5329264\n",
            " 12.9968938   1.20869929  9.40351326]\n",
            "[1. 1. 1. 1. 1. 1. 1. 1. 1. 1. 1. 1. 1. 1. 1. 1. 1. 1. 1. 1. 1. 1. 1. 1.\n",
            " 1. 1. 1. 1. 1. 1. 1. 1. 1. 1. 1. 1. 1. 1. 1. 1. 1. 1. 1. 1. 1. 1. 1. 1.\n",
            " 1. 1. 1. 1. 1. 1. 1. 1. 1. 1. 1. 1. 1. 1. 1. 1. 1. 1. 1. 1. 1. 1. 1.]\n",
            "70.99999999991067\n"
          ],
          "name": "stdout"
        }
      ]
    }
  ]
}